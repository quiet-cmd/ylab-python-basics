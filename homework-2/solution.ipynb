{
 "cells": [
  {
   "cell_type": "code",
   "execution_count": 1,
   "id": "354974c8",
   "metadata": {},
   "outputs": [
    {
     "name": "stdout",
     "output_type": "stream",
     "text": [
      "pygame 2.0.2 (SDL 2.0.16, Python 3.8.11)\n",
      "Hello from the pygame community. https://www.pygame.org/contribute.html\n"
     ]
    }
   ],
   "source": [
    "import numpy as np\n",
    "import pygame\n",
    "import random\n",
    "import sys\n",
    "import time"
   ]
  },
  {
   "cell_type": "code",
   "execution_count": 2,
   "id": "8de6b5d8",
   "metadata": {},
   "outputs": [],
   "source": [
    "def choose_first():\n",
    "    \"\"\"Random selection of player mark\"\"\"\n",
    "    return PLAYERS_MARKS if random.choice((0, 1)) else PLAYERS_MARKS[::-1]"
   ]
  },
  {
   "cell_type": "code",
   "execution_count": 3,
   "id": "fc725859",
   "metadata": {},
   "outputs": [],
   "source": [
    "def display_board(board):\n",
    "    \"\"\"display the game board.\"\"\"\n",
    "    for row in range(SIZE_BOARD):\n",
    "        for col in range(SIZE_BOARD):\n",
    "            if board[row][col] == PLAYERS_MARKS[0]:\n",
    "                color = 'red'\n",
    "            elif board[row][col] == PLAYERS_MARKS[1]:\n",
    "                color = 'blue'\n",
    "            else:\n",
    "                color = 'white'\n",
    "            x = col * SIZE_BLOCK + (col + 1) * MARGIN\n",
    "            y = row * SIZE_BLOCK + (row + 1) * MARGIN\n",
    "            drawing_cell(x, y, color)\n",
    "\n",
    "\n",
    "def drawing_cell(x, y, color):\n",
    "    pygame.draw.rect(screen, COLOR_DICT[color], (x, y, SIZE_BLOCK, SIZE_BLOCK))\n",
    "    if color == 'red':\n",
    "        pygame.draw.line(screen, COLOR_DICT['white'], (x, y), (x + SIZE_BLOCK, y + SIZE_BLOCK), 3)\n",
    "        pygame.draw.line(screen, COLOR_DICT['white'], (x + SIZE_BLOCK, y), (x, y + SIZE_BLOCK), 3)\n",
    "    elif color == 'blue':\n",
    "        half_size = SIZE_BLOCK // 2\n",
    "        pygame.draw.circle(screen, COLOR_DICT['white'], (x + half_size, y + half_size), half_size, 3)"
   ]
  },
  {
   "cell_type": "code",
   "execution_count": 4,
   "id": "ebc99fff",
   "metadata": {},
   "outputs": [],
   "source": [
    "def player_choice():\n",
    "    \"\"\"Gets player's next position coord\"\"\"\n",
    "    x_mouse, y_mouse = pygame.mouse.get_pos()\n",
    "    col = x_mouse // (SIZE_BLOCK + MARGIN)\n",
    "    row = y_mouse // (SIZE_BLOCK + MARGIN)\n",
    "    return row, col\n",
    "\n",
    "\n",
    "def cell_full(board, x, y):\n",
    "    \"\"\"Сhecks the emptiness of the cell\"\"\"\n",
    "    return board[x][y] not in PLAYERS_MARKS\n",
    "\n",
    "\n",
    "def place_marker(board, marker, x, y):\n",
    "    \"\"\"Puts a player mark to appropriate position.\"\"\"\n",
    "    board[x][y] = marker"
   ]
  },
  {
   "cell_type": "code",
   "execution_count": 5,
   "id": "3286a664",
   "metadata": {},
   "outputs": [],
   "source": [
    "def lose_check(board, x, y, mark):\n",
    "    \"\"\"Returns boolean value whether the player loses the game.\"\"\"\n",
    "    win_comb = [mark] * 5\n",
    "    #left, right, bot, top, main diag, other diag\n",
    "    win_slice = [board[x, y:y + 5], board[x, y - 4:y + 1], board[x - 4:x + 1, y], board[x:x + 5, y]]\n",
    "    main_diag = np.diag(play_board[:, ::-1], k=SIZE_BOARD - x - y - 1)\n",
    "    [win_slice.append(main_diag[i: i + 5]) for i in range(len(main_diag))]\n",
    "    other_diag = np.diag(play_board, k=y - x)\n",
    "    [win_slice.append(other_diag[i: i + 5]) for i in range(len(other_diag))]\n",
    "    for s in win_slice:\n",
    "        if len(s) == 5 and all(s == win_comb):\n",
    "            return True\n",
    "    return False\n",
    "\n",
    "\n",
    "def full_board_check(board):\n",
    "    return EMPTY_CHAR not in board\n",
    "\n",
    "\n",
    "def check_game_finish(board, x, y, mark):\n",
    "    \"\"\"Return boolean value is the game finished or not.\"\"\"\n",
    "    if lose_check(board, x, y, mark):\n",
    "        return f'Проиграли \"{mark}\". Нажмите пробел для продолжения'\n",
    "\n",
    "    if full_board_check(board):\n",
    "        return 'Доска заполнена. Нажмите пробел для продолжения'\n",
    "    return False"
   ]
  },
  {
   "cell_type": "code",
   "execution_count": 6,
   "id": "67db9d77",
   "metadata": {},
   "outputs": [],
   "source": [
    "def game_over_screen(game_over_text):\n",
    "    screen.fill(COLOR_DICT['black'])\n",
    "    font = pygame.font.SysFont('kacstbook', 40)\n",
    "    text = font.render(game_over_text, True, COLOR_DICT['white'])\n",
    "    text_rect = text.get_rect()\n",
    "    text_x = screen.get_width() / 2 - text_rect.width / 2\n",
    "    text_y = screen.get_height() / 2 - text_rect.height / 2\n",
    "    screen.blit(text, [text_x, text_y])"
   ]
  },
  {
   "cell_type": "code",
   "execution_count": 7,
   "id": "01c59a80",
   "metadata": {},
   "outputs": [],
   "source": [
    "def minimax(board, x, y, depth, is_ai_turn):\n",
    "    if lose_check(board, x, y, bot_mark):\n",
    "        return scores[bot_mark]\n",
    "    if lose_check(board, x, y, player_mark):\n",
    "        return scores[player_mark]\n",
    "    if full_board_check(board):\n",
    "        return scores['draw']\n",
    "    if is_ai_turn:\n",
    "        best_score = -sys.maxsize\n",
    "        for y in range(SIZE_BOARD):\n",
    "            for x in range(SIZE_BOARD):\n",
    "                if board[y][x] == EMPTY_CHAR:\n",
    "                    board[y][x] = bot_mark\n",
    "                    if depth > 10:\n",
    "                        return best_score\n",
    "                    score = minimax(board, x, y, depth + 1, False)\n",
    "                    board[y][x] = EMPTY_CHAR\n",
    "                    best_score = min(best_score, score)\n",
    "    else:\n",
    "        best_score = sys.maxsize\n",
    "        for y in range(SIZE_BOARD):\n",
    "            for x in range(SIZE_BOARD):\n",
    "                if board[y][x] == EMPTY_CHAR:\n",
    "                    board[y][x] = player_mark\n",
    "                    score = minimax(board, x, y, depth + 1, True)\n",
    "                    board[y][x] = EMPTY_CHAR\n",
    "                    best_score = max(best_score, score)\n",
    "    return best_score\n",
    "\n",
    "\n",
    "def bot_choice(field):\n",
    "    move = None\n",
    "    best_score = -sys.maxsize\n",
    "    board = np.array([field[y].copy() for y in range(SIZE_BOARD)])\n",
    "    for y in range(SIZE_BOARD):\n",
    "        for x in range(SIZE_BOARD):\n",
    "            if cell_full(board, x, y):\n",
    "                place_marker(board, bot_mark, x, y)\n",
    "                board[y][x] = bot_mark\n",
    "                score = minimax(board, x, y, 0, False)\n",
    "                board[y][x] = EMPTY_CHAR\n",
    "                if random.choice((0, 1)):\n",
    "                    move = (random.randint(0, SIZE_BOARD-1), random.randint(0, SIZE_BOARD-1))\n",
    "                if score > best_score:\n",
    "                    best_score = score\n",
    "                    move = (x, y)\n",
    "    time.sleep(1)\n",
    "    return move"
   ]
  },
  {
   "cell_type": "code",
   "execution_count": 8,
   "id": "4eed72b1",
   "metadata": {},
   "outputs": [],
   "source": [
    "def step(board, mark, move):\n",
    "    \"\"\"common features for humans and bot\"\"\"\n",
    "    row, col = player_choice() if mark == player_mark else bot_choice(board)\n",
    "    if cell_full(board, row, col):\n",
    "        place_marker(board, mark, row, col)\n",
    "        game_over = check_game_finish(play_board, row, col, current_mark)\n",
    "        move += 1\n",
    "        return move, game_over\n",
    "    return move, False"
   ]
  },
  {
   "cell_type": "code",
   "execution_count": 9,
   "id": "8cd39493",
   "metadata": {},
   "outputs": [],
   "source": [
    "pygame.init()\n",
    "SIZE_BOARD = 10\n",
    "EMPTY_CHAR = '0'\n",
    "SIZE_BLOCK, MARGIN = 70, 10\n",
    "width = height = SIZE_BLOCK * SIZE_BOARD + MARGIN * SIZE_BOARD + 1\n",
    "\n",
    "size_window = (width, height)\n",
    "screen = pygame.display.set_mode(size_window)\n",
    "pygame.display.set_caption(\"Обратные крестики-нолики\")\n",
    "\n",
    "COLOR_DICT = {'black': (0, 0, 0),\n",
    "               'red': (255, 0, 0),\n",
    "               'white': (255, 255, 255),\n",
    "               'blue': (0, 191, 255)}\n",
    "play_board = np.array([[EMPTY_CHAR] * SIZE_BOARD for i in range(SIZE_BOARD)])\n",
    "PLAYERS_MARKS = ['X', 'O']\n",
    "player_mark, bot_mark = PLAYERS_MARKS[0], PLAYERS_MARKS[1]\n",
    "scores = {\n",
    "    player_mark: 100,\n",
    "    bot_mark: -100,\n",
    "    'draw': 50\n",
    "}\n",
    "\n",
    "move_number = 0\n",
    "game_over = False"
   ]
  },
  {
   "cell_type": "code",
   "execution_count": 10,
   "id": "4746c827",
   "metadata": {},
   "outputs": [
    {
     "ename": "SystemExit",
     "evalue": "0",
     "output_type": "error",
     "traceback": [
      "An exception has occurred, use %tb to see the full traceback.\n",
      "\u001b[1;31mSystemExit\u001b[0m\u001b[1;31m:\u001b[0m 0\n"
     ]
    },
    {
     "name": "stderr",
     "output_type": "stream",
     "text": [
      "C:\\Users\\maxzh\\.conda\\envs\\ML\\lib\\site-packages\\IPython\\core\\interactiveshell.py:3449: UserWarning: To exit: use 'exit', 'quit', or Ctrl-D.\n",
      "  warn(\"To exit: use 'exit', 'quit', or Ctrl-D.\", stacklevel=1)\n"
     ]
    }
   ],
   "source": [
    "while True:\n",
    "    current_mark = PLAYERS_MARKS[move_number % 2]\n",
    "    if not game_over:\n",
    "        display_board(play_board)\n",
    "\n",
    "    for event in pygame.event.get():\n",
    "        if event.type == pygame.QUIT:\n",
    "            pygame.quit()\n",
    "            sys.exit(0)\n",
    "        elif event.type == pygame.MOUSEBUTTONDOWN and (not game_over) and current_mark == player_mark:\n",
    "            move_number, game_over = step(play_board, current_mark, move_number)\n",
    "        elif current_mark == bot_mark and (not game_over):\n",
    "            move_number, game_over = step(play_board, current_mark, move_number)\n",
    "        elif event.type == pygame.KEYDOWN and event.key == pygame.K_SPACE: # restart game\n",
    "            game_over = False\n",
    "            play_board = np.array([[EMPTY_CHAR] * SIZE_BOARD for i in range(SIZE_BOARD)])\n",
    "            move_number = 0\n",
    "            screen.fill(COLOR_DICT['black'])\n",
    "            #player_mark, bot_mark = choose_first()\n",
    "    if game_over:\n",
    "        game_over_screen(game_over)\n",
    "    pygame.display.update()"
   ]
  }
 ],
 "metadata": {
  "kernelspec": {
   "display_name": "Python 3",
   "language": "python",
   "name": "python3"
  },
  "language_info": {
   "codemirror_mode": {
    "name": "ipython",
    "version": 3
   },
   "file_extension": ".py",
   "mimetype": "text/x-python",
   "name": "python",
   "nbconvert_exporter": "python",
   "pygments_lexer": "ipython3",
   "version": "3.8.11"
  }
 },
 "nbformat": 4,
 "nbformat_minor": 5
}
